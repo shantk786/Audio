{
  "nbformat": 4,
  "nbformat_minor": 0,
  "metadata": {
    "colab": {
      "provenance": []
    },
    "kernelspec": {
      "name": "python3",
      "display_name": "Python 3"
    },
    "language_info": {
      "name": "python"
    }
  },
  "cells": [
    {
      "cell_type": "code",
      "execution_count": null,
      "metadata": {
        "colab": {
          "base_uri": "https://localhost:8080/"
        },
        "id": "fNsQ6UC1MJMd",
        "outputId": "a8486da6-aa44-4554-d485-ed1364a96c53"
      },
      "outputs": [
        {
          "output_type": "stream",
          "name": "stdout",
          "text": [
            "Mounted at /content/drive\n"
          ]
        }
      ],
      "source": [
        "from google.colab import drive\n",
        "drive.mount('/content/drive', force_remount=True)  # Force remount to refresh access"
      ]
    },
    {
      "cell_type": "code",
      "source": [
        "import os\n",
        "\n",
        "DATA_PATH = \"/content/drive/My Drive/siren_detection_model.keras\""
      ],
      "metadata": {
        "id": "sSVGnQ6AMaey"
      },
      "execution_count": null,
      "outputs": []
    },
    {
      "cell_type": "code",
      "source": [
        "import tensorflow as tf\n",
        "import numpy as np\n",
        "import librosa\n",
        "import json\n",
        "import time\n",
        "from google.colab import drive\n",
        "\n",
        "# ✅ Step 1: Mount Google Drive\n",
        "drive.mount('/content/drive')\n",
        "\n",
        "# ✅ Step 2: Set paths for model and audio\n",
        "model_path = \"/content/drive/My Drive/siren_detection_model.keras\"\n",
        "audio_path = \"/content/drive/My Drive/Veh.wav\"\n",
        "\n",
        "# ✅ Step 3: Load the trained siren detection model\n",
        "model = tf.keras.models.load_model(model_path)\n",
        "\n",
        "# ✅ Class labels (from one-hot encoding during training)\n",
        "labels = [\"ambulance\", \"firetruck\", \"police\", \"noise\"]\n",
        "\n",
        "# ✅ Step 4: Load test audio\n",
        "def load_audio(audio_path):\n",
        "    y, sr = librosa.load(audio_path, sr=22050)  # Ensure sample rate matches training\n",
        "    return y, sr\n",
        "\n",
        "# ✅ Step 5: Predict emergency vehicle type\n",
        "def predict_vehicle(audio_file):\n",
        "    y, sr = load_audio(audio_file)\n",
        "\n",
        "    # Ensure input shape matches model expectations\n",
        "    y = np.expand_dims(y[:model.input_shape[1]], axis=0)  # Reshape for CNN input\n",
        "\n",
        "    prediction = model.predict(y)\n",
        "    detected_vehicle = labels[np.argmax(prediction)]\n",
        "    return detected_vehicle\n",
        "\n",
        "# ✅ Step 6: Simulate updating traffic signals\n",
        "def update_traffic_signal(vehicle_type, direction):\n",
        "    traffic_signals = {\n",
        "        \"North\": \"RED\",\n",
        "        \"South\": \"RED\",\n",
        "        \"East\": \"GREEN\",\n",
        "        \"West\": \"RED\"\n",
        "    }\n",
        "\n",
        "    if vehicle_type in [\"ambulance\", \"firetruck\", \"police\"]:\n",
        "        # Turn all signals RED\n",
        "        for key in traffic_signals:\n",
        "            traffic_signals[key] = \"RED\"\n",
        "\n",
        "        # Set detected vehicle's direction to GREEN\n",
        "        traffic_signals[direction] = \"GREEN\"\n",
        "        print(f\"🚨 Emergency {vehicle_type.upper()} detected! 🚦 {direction} -> GREEN\")\n",
        "\n",
        "        # Keep signal GREEN for 5 seconds, then reset\n",
        "        time.sleep(5)\n",
        "        traffic_signals[direction] = \"RED\"\n",
        "\n",
        "        print(\"🔴 Traffic signals reset to normal.\")\n",
        "\n",
        "    else:\n",
        "        print(\"✅ No emergency detected. Normal traffic flow.\")\n",
        "\n",
        "# ✅ Step 7: Run the detection and update signals\n",
        "vehicle_type = predict_vehicle(audio_path)\n",
        "update_traffic_signal(vehicle_type, \"North\")  # Assume emergency vehicle is coming from North\n"
      ],
      "metadata": {
        "id": "1eAN4EreOJGK",
        "colab": {
          "base_uri": "https://localhost:8080/"
        },
        "outputId": "f64f9422-b3e0-4704-ae2f-1f8c3f2f7fe0"
      },
      "execution_count": 7,
      "outputs": [
        {
          "output_type": "stream",
          "name": "stdout",
          "text": [
            "Drive already mounted at /content/drive; to attempt to forcibly remount, call drive.mount(\"/content/drive\", force_remount=True).\n",
            "\u001b[1m1/1\u001b[0m \u001b[32m━━━━━━━━━━━━━━━━━━━━\u001b[0m\u001b[37m\u001b[0m \u001b[1m0s\u001b[0m 174ms/step\n",
            "🚨 Emergency FIRETRUCK detected! 🚦 North -> GREEN\n",
            "🔴 Traffic signals reset to normal.\n"
          ]
        }
      ]
    },
    {
      "cell_type": "code",
      "source": [],
      "metadata": {
        "id": "POKlAVAOeAF5"
      },
      "execution_count": null,
      "outputs": []
    }
  ]
}