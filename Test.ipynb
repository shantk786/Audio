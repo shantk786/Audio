{
  "nbformat": 4,
  "nbformat_minor": 0,
  "metadata": {
    "colab": {
      "provenance": []
    },
    "kernelspec": {
      "name": "python3",
      "display_name": "Python 3"
    },
    "language_info": {
      "name": "python"
    }
  },
  "cells": [
    {
      "cell_type": "code",
      "source": [
        "from google.colab import drive\n",
        "drive.mount('/content/drive')\n"
      ],
      "metadata": {
        "colab": {
          "base_uri": "https://localhost:8080/"
        },
        "id": "k6ssSUmHKavm",
        "outputId": "67662037-62a5-47ec-b6a6-f1493188ef0b"
      },
      "execution_count": 8,
      "outputs": [
        {
          "output_type": "stream",
          "name": "stdout",
          "text": [
            "Drive already mounted at /content/drive; to attempt to forcibly remount, call drive.mount(\"/content/drive\", force_remount=True).\n"
          ]
        }
      ]
    },
    {
      "cell_type": "code",
      "source": [
        "import os\n",
        "\n",
        "model_path = \"/content/drive/My Drive\"\n",
        "print(os.listdir(model_path))\n"
      ],
      "metadata": {
        "id": "1tXEDawyK6ks",
        "colab": {
          "base_uri": "https://localhost:8080/"
        },
        "outputId": "7709f662-e8ec-422e-9d8f-0a8c76706d71"
      },
      "execution_count": 9,
      "outputs": [
        {
          "output_type": "stream",
          "name": "stdout",
          "text": [
            "['Untitled form.gform', 'ambulance', 'Colab Notebooks', 'Audio', 'Amb_3.wav', 'Amb.wav', 'Amb4.wav', 'Copy of sound_603_1.wav', 'Copy of sound_603.wav', 'siren_detection_model.keras']\n"
          ]
        }
      ]
    },
    {
      "cell_type": "code",
      "source": [
        "from tensorflow.keras.models import load_model\n",
        "\n",
        "model = load_model(\"/content/drive/My Drive/siren_detection_model.keras\")\n",
        "print(\"✅ Model loaded successfully!\")\n"
      ],
      "metadata": {
        "colab": {
          "base_uri": "https://localhost:8080/"
        },
        "id": "0Qs9_YQyNS12",
        "outputId": "e7b876cc-1324-4ad6-d034-6735c1cee6d8"
      },
      "execution_count": 10,
      "outputs": [
        {
          "output_type": "stream",
          "name": "stdout",
          "text": [
            "✅ Model loaded successfully!\n"
          ]
        }
      ]
    },
    {
      "cell_type": "code",
      "source": [
        "import librosa\n",
        "import numpy as np\n",
        "\n",
        "def preprocess_audio(file_path):\n",
        "    audio, sr = librosa.load(file_path, sr=22050)\n",
        "    mfccs = librosa.feature.mfcc(y=audio, sr=sr, n_mfcc=40)\n",
        "    mfccs = np.mean(mfccs, axis=1)  # Flatten to 1D\n",
        "\n",
        "    return np.expand_dims(mfccs, axis=0)  # Reshape for model input\n",
        "\n",
        "# Example: Test an audio file\n",
        "test_audio_path = \"/content/drive/My Drive/Amb_3.wav\"\n",
        "X_test_audio = preprocess_audio(test_audio_path)\n",
        "\n",
        "print(\"✅ Audio file processed! Shape:\", X_test_audio.shape)\n"
      ],
      "metadata": {
        "colab": {
          "base_uri": "https://localhost:8080/"
        },
        "id": "X1NjqhPZNY2M",
        "outputId": "8418c473-cbce-4d43-864f-d9eacda0f7c2"
      },
      "execution_count": 11,
      "outputs": [
        {
          "output_type": "stream",
          "name": "stdout",
          "text": [
            "✅ Audio file processed! Shape: (1, 40)\n"
          ]
        }
      ]
    },
    {
      "cell_type": "code",
      "source": [
        "# Predict\n",
        "predictions = model.predict(X_test_audio)\n",
        "predicted_class = np.argmax(predictions, axis=1)[0]  # Get the class index\n",
        "\n",
        "# Convert index to label\n",
        "labels = [\"ambulance\", \"police\", \"firetruck\", \"noise\"]  # Match your training labels\n",
        "predicted_label = labels[predicted_class]\n",
        "\n",
        "print(f\"🚨 Detected Sound: {predicted_label} 🚨\")\n"
      ],
      "metadata": {
        "colab": {
          "base_uri": "https://localhost:8080/"
        },
        "id": "b3F6CUh3NvNH",
        "outputId": "661dc5de-eb2d-4a90-ceb5-b568c426a7cf"
      },
      "execution_count": 12,
      "outputs": [
        {
          "output_type": "stream",
          "name": "stdout",
          "text": [
            "\u001b[1m1/1\u001b[0m \u001b[32m━━━━━━━━━━━━━━━━━━━━\u001b[0m\u001b[37m\u001b[0m \u001b[1m1s\u001b[0m 729ms/step\n",
            "🚨 Detected Sound: ambulance 🚨\n"
          ]
        }
      ]
    },
    {
      "cell_type": "code",
      "source": [],
      "metadata": {
        "id": "7B9DcTwhN50h"
      },
      "execution_count": null,
      "outputs": []
    }
  ]
}